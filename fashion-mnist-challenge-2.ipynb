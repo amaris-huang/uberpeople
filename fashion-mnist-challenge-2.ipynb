{
 "cells": [
  {
   "cell_type": "code",
   "execution_count": 1,
   "id": "714a2629",
   "metadata": {
    "_cell_guid": "b1076dfc-b9ad-4769-8c92-a6c4dae69d19",
    "_uuid": "8f2839f25d086af736a60e9eeb907d3b93b6e0e5",
    "execution": {
     "iopub.execute_input": "2021-11-26T23:37:15.228046Z",
     "iopub.status.busy": "2021-11-26T23:37:15.226755Z",
     "iopub.status.idle": "2021-11-26T23:37:15.248625Z",
     "shell.execute_reply": "2021-11-26T23:37:15.249257Z",
     "shell.execute_reply.started": "2021-11-26T23:25:05.202565Z"
    },
    "papermill": {
     "duration": 0.043852,
     "end_time": "2021-11-26T23:37:15.249586",
     "exception": false,
     "start_time": "2021-11-26T23:37:15.205734",
     "status": "completed"
    },
    "tags": []
   },
   "outputs": [
    {
     "name": "stdout",
     "output_type": "stream",
     "text": [
      "/kaggle/input/mais202fall2021/sample_submission.csv\n",
      "/kaggle/input/mais202fall2021/train_images.npy\n",
      "/kaggle/input/mais202fall2021/train_labels.csv\n",
      "/kaggle/input/mais202fall2021/test_images.npy\n",
      "/kaggle/input/mais202fall2021/label_int_to_str_mapping.csv\n"
     ]
    }
   ],
   "source": [
    "# This Python 3 environment comes with many helpful analytics libraries installed\n",
    "# It is defined by the kaggle/python Docker image: https://github.com/kaggle/docker-python\n",
    "# For example, here's several helpful packages to load\n",
    "\n",
    "import numpy as np # linear algebra\n",
    "import pandas as pd # data processing, CSV file I/O (e.g. pd.read_csv)\n",
    "import matplotlib.pyplot as plt\n",
    "# Input data files are available in the read-only \"../input/\" directory\n",
    "# For example, running this (by clicking run or pressing Shift+Enter) will list all files under the input directory\n",
    "\n",
    "import os\n",
    "for dirname, _, filenames in os.walk('/kaggle/input'):\n",
    "    for filename in filenames:\n",
    "        print(os.path.join(dirname, filename))\n",
    "\n",
    "# You can write up to 20GB to the current directory (/kaggle/working/) that gets preserved as output when you create a version using \"Save & Run All\" \n",
    "# You can also write temporary files to /kaggle/temp/, but they won't be saved outside of the current session"
   ]
  },
  {
   "cell_type": "code",
   "execution_count": 2,
   "id": "ee297476",
   "metadata": {
    "execution": {
     "iopub.execute_input": "2021-11-26T23:37:15.286049Z",
     "iopub.status.busy": "2021-11-26T23:37:15.285333Z",
     "iopub.status.idle": "2021-11-26T23:37:21.233963Z",
     "shell.execute_reply": "2021-11-26T23:37:21.234509Z",
     "shell.execute_reply.started": "2021-11-26T23:25:05.216985Z"
    },
    "papermill": {
     "duration": 5.969337,
     "end_time": "2021-11-26T23:37:21.234701",
     "exception": false,
     "start_time": "2021-11-26T23:37:15.265364",
     "status": "completed"
    },
    "tags": []
   },
   "outputs": [],
   "source": [
    "# import\n",
    "import numpy as np\n",
    "import csv\n",
    "\n",
    "import sys\n",
    "from matplotlib import pyplot\n",
    "import keras\n",
    "from tensorflow.keras.utils import to_categorical\n",
    "from tensorflow.keras.models import Sequential\n",
    "from tensorflow.keras.layers import Conv2D\n",
    "from tensorflow.keras.layers import MaxPooling2D\n",
    "from tensorflow.keras.layers import Activation,Dense\n",
    "from tensorflow.keras.layers import Flatten\n",
    "from tensorflow.keras.layers import Dropout\n",
    "from tensorflow.keras.optimizers import Adam"
   ]
  },
  {
   "cell_type": "code",
   "execution_count": 3,
   "id": "a00db619",
   "metadata": {
    "execution": {
     "iopub.execute_input": "2021-11-26T23:37:21.272873Z",
     "iopub.status.busy": "2021-11-26T23:37:21.272136Z",
     "iopub.status.idle": "2021-11-26T23:37:24.377864Z",
     "shell.execute_reply": "2021-11-26T23:37:24.377262Z",
     "shell.execute_reply.started": "2021-11-26T23:25:12.322523Z"
    },
    "papermill": {
     "duration": 3.127299,
     "end_time": "2021-11-26T23:37:24.378023",
     "exception": false,
     "start_time": "2021-11-26T23:37:21.250724",
     "status": "completed"
    },
    "tags": []
   },
   "outputs": [
    {
     "name": "stdout",
     "output_type": "stream",
     "text": [
      "(50000, 28, 28)\n",
      "(20000, 28, 28)\n",
      "(50000, 28, 28, 1)\n",
      "(20000, 28, 28, 1)\n"
     ]
    }
   ],
   "source": [
    "# loading data\n",
    "train_images = np.load(\"/kaggle/input/mais202fall2021/train_images.npy\")\n",
    "train_images = np.array(train_images)\n",
    "print(train_images.shape)\n",
    "test_images = np.load(\"/kaggle/input/mais202fall2021/test_images.npy\")\n",
    "print(test_images.shape)\n",
    "\n",
    "with open('/kaggle/input/mais202fall2021/train_labels.csv') as train_file:\n",
    "    train_labels_with_id = list(csv.reader(train_file, delimiter=','))\n",
    "\n",
    "with open('/kaggle/input/mais202fall2021/label_int_to_str_mapping.csv') as file:\n",
    "    mapping = dict(csv.reader(file, delimiter=','))\n",
    "\n",
    "train_labels =[]\n",
    "for i in range (1,len(train_labels_with_id)):\n",
    "    train_labels.append(train_labels_with_id[i][1])\n",
    "train_labels = to_categorical(np.array(train_labels))\n",
    "train_images = train_images.reshape(50000,28,28,1)\n",
    "test_images = test_images.reshape(20000,28,28,1)\n",
    "print(train_images.shape)\n",
    "print(test_images.shape)"
   ]
  },
  {
   "cell_type": "code",
   "execution_count": 4,
   "id": "a96c4cdf",
   "metadata": {
    "execution": {
     "iopub.execute_input": "2021-11-26T23:37:24.411535Z",
     "iopub.status.busy": "2021-11-26T23:37:24.410880Z",
     "iopub.status.idle": "2021-11-26T23:37:24.415216Z",
     "shell.execute_reply": "2021-11-26T23:37:24.415708Z",
     "shell.execute_reply.started": "2021-11-26T23:25:16.485189Z"
    },
    "papermill": {
     "duration": 0.02224,
     "end_time": "2021-11-26T23:37:24.415883",
     "exception": false,
     "start_time": "2021-11-26T23:37:24.393643",
     "status": "completed"
    },
    "tags": []
   },
   "outputs": [],
   "source": [
    "def show_image(arr):\n",
    "    two_d = (np.reshape(arr, (28, 28)) * 255).astype(np.uint8)\n",
    "    plt.imshow(two_d, interpolation='nearest')\n",
    "    plt.show()"
   ]
  },
  {
   "cell_type": "code",
   "execution_count": null,
   "id": "55281f08",
   "metadata": {
    "papermill": {
     "duration": 0.014663,
     "end_time": "2021-11-26T23:37:24.445047",
     "exception": false,
     "start_time": "2021-11-26T23:37:24.430384",
     "status": "completed"
    },
    "tags": []
   },
   "outputs": [],
   "source": []
  },
  {
   "cell_type": "code",
   "execution_count": 5,
   "id": "2c2f0e14",
   "metadata": {
    "execution": {
     "iopub.execute_input": "2021-11-26T23:37:24.482042Z",
     "iopub.status.busy": "2021-11-26T23:37:24.481019Z",
     "iopub.status.idle": "2021-11-26T23:37:26.181822Z",
     "shell.execute_reply": "2021-11-26T23:37:26.181257Z",
     "shell.execute_reply.started": "2021-11-26T23:25:16.494772Z"
    },
    "papermill": {
     "duration": 1.721748,
     "end_time": "2021-11-26T23:37:26.181974",
     "exception": false,
     "start_time": "2021-11-26T23:37:24.460226",
     "status": "completed"
    },
    "tags": []
   },
   "outputs": [
    {
     "name": "stdout",
     "output_type": "stream",
     "text": [
      "[0. 0. 0. 0. 1. 0. 0. 0. 0. 0.]\n",
      "Shirt\n"
     ]
    },
    {
     "data": {
      "image/png": "[encoded data removed]",
      "text/plain": [
       "<Figure size 432x288 with 1 Axes>"
      ]
     },
     "metadata": {
      "needs_background": "light"
     },
     "output_type": "display_data"
    },
    {
     "name": "stdout",
     "output_type": "stream",
     "text": [
      "[0. 0. 0. 0. 0. 0. 1. 0. 0. 0.]\n",
      "Coat\n"
     ]
    },
    {
     "data": {
      "image/png": "[encoded data removed]",
      "text/plain": [
       "<Figure size 432x288 with 1 Axes>"
      ]
     },
     "metadata": {
      "needs_background": "light"
     },
     "output_type": "display_data"
    },
    {
     "name": "stdout",
     "output_type": "stream",
     "text": [
      "[0. 1. 0. 0. 0. 0. 0. 0. 0. 0.]\n",
      "Shirt\n"
     ]
    },
    {
     "data": {
      "image/png": "[encoded data removed]",
      "text/plain": [
       "<Figure size 432x288 with 1 Axes>"
      ]
     },
     "metadata": {
      "needs_background": "light"
     },
     "output_type": "display_data"
    },
    {
     "name": "stdout",
     "output_type": "stream",
     "text": [
      "[0. 0. 0. 0. 0. 0. 0. 0. 1. 0.]\n",
      "Trouser\n"
     ]
    },
    {
     "data": {
      "image/png": "[encoded data removed]",
      "text/plain": [
       "<Figure size 432x288 with 1 Axes>"
      ]
     },
     "metadata": {
      "needs_background": "light"
     },
     "output_type": "display_data"
    },
    {
     "name": "stdout",
     "output_type": "stream",
     "text": [
      "[0. 0. 1. 0. 0. 0. 0. 0. 0. 0.]\n",
      "Bag\n"
     ]
    },
    {
     "data": {
      "image/png": "[encoded data removed]",
      "text/plain": [
       "<Figure size 432x288 with 1 Axes>"
      ]
     },
     "metadata": {
      "needs_background": "light"
     },
     "output_type": "display_data"
    },
    {
     "name": "stdout",
     "output_type": "stream",
     "text": [
      "[0. 0. 1. 0. 0. 0. 0. 0. 0. 0.]\n",
      "Pullover\n"
     ]
    },
    {
     "data": {
      "image/png": "[encoded data removed]",
      "text/plain": [
       "<Figure size 432x288 with 1 Axes>"
      ]
     },
     "metadata": {
      "needs_background": "light"
     },
     "output_type": "display_data"
    },
    {
     "name": "stdout",
     "output_type": "stream",
     "text": [
      "[0. 0. 0. 0. 0. 0. 0. 0. 1. 0.]\n",
      "Pullover\n"
     ]
    },
    {
     "data": {
      "image/png": "[encoded data removed]",
      "text/plain": [
       "<Figure size 432x288 with 1 Axes>"
      ]
     },
     "metadata": {
      "needs_background": "light"
     },
     "output_type": "display_data"
    },
    {
     "name": "stdout",
     "output_type": "stream",
     "text": [
      "[0. 0. 0. 0. 0. 0. 0. 0. 1. 0.]\n",
      "Bag\n"
     ]
    },
    {
     "data": {
      "image/png": "[encoded data removed]",
      "text/plain": [
       "<Figure size 432x288 with 1 Axes>"
      ]
     },
     "metadata": {
      "needs_background": "light"
     },
     "output_type": "display_data"
    },
    {
     "name": "stdout",
     "output_type": "stream",
     "text": [
      "[0. 0. 0. 0. 0. 0. 0. 1. 0. 0.]\n",
      "Bag\n"
     ]
    },
    {
     "data": {
      "image/png": "[encoded data removed]",
      "text/plain": [
       "<Figure size 432x288 with 1 Axes>"
      ]
     },
     "metadata": {
      "needs_background": "light"
     },
     "output_type": "display_data"
    }
   ],
   "source": [
    "# display the first 9 image with its label\n",
    "for i in range(0,9):\n",
    "    print(train_labels[i+1])\n",
    "    print(mapping[str(train_labels_with_id[i+1][1])])\n",
    "    show_image(train_images[i])\n",
    "    # 0 is the index of the training image you want to display"
   ]
  },
  {
   "cell_type": "code",
   "execution_count": 6,
   "id": "ac544e5e",
   "metadata": {
    "execution": {
     "iopub.execute_input": "2021-11-26T23:37:26.251275Z",
     "iopub.status.busy": "2021-11-26T23:37:26.249887Z",
     "iopub.status.idle": "2021-11-26T23:37:26.404012Z",
     "shell.execute_reply": "2021-11-26T23:37:26.403103Z",
     "shell.execute_reply.started": "2021-11-26T23:25:18.221881Z"
    },
    "papermill": {
     "duration": 0.191215,
     "end_time": "2021-11-26T23:37:26.404182",
     "exception": false,
     "start_time": "2021-11-26T23:37:26.212967",
     "status": "completed"
    },
    "tags": []
   },
   "outputs": [],
   "source": [
    "# normalize the data\n",
    "train_images = train_images.astype('float32')\n",
    "test_images = test_images.astype('float32')\n",
    "train_images = train_images/255.0\n",
    "test_images = test_images/255.0\n",
    "# print(train_images[0])"
   ]
  },
  {
   "cell_type": "code",
   "execution_count": 7,
   "id": "02aba1bc",
   "metadata": {
    "execution": {
     "iopub.execute_input": "2021-11-26T23:37:26.458333Z",
     "iopub.status.busy": "2021-11-26T23:37:26.457494Z",
     "iopub.status.idle": "2021-11-26T23:37:26.460173Z",
     "shell.execute_reply": "2021-11-26T23:37:26.460669Z",
     "shell.execute_reply.started": "2021-11-26T23:25:18.388437Z"
    },
    "papermill": {
     "duration": 0.032214,
     "end_time": "2021-11-26T23:37:26.460849",
     "exception": false,
     "start_time": "2021-11-26T23:37:26.428635",
     "status": "completed"
    },
    "tags": []
   },
   "outputs": [],
   "source": [
    "# def define_model():\n",
    "# \tmodel = Sequential()\n",
    "# \tmodel.add(Conv2D(32, (3, 3), activation='relu', kernel_initializer='he_uniform', padding='same', input_shape=((50000, 28, 28))))\n",
    "# \tmodel.add(Conv2D(32, (3, 3), activation='relu', kernel_initializer='he_uniform', padding='same'))\n",
    "# \tmodel.add(MaxPooling2D((2, 2)))\n",
    "# \tmodel.add(Dropout(0.2))\n",
    "# \tmodel.add(Conv2D(64, (3, 3), activation='relu', kernel_initializer='he_uniform', padding='same'))\n",
    "# \tmodel.add(Conv2D(64, (3, 3), activation='relu', kernel_initializer='he_uniform', padding='same'))\n",
    "# \tmodel.add(MaxPooling2D((2, 2)))\n",
    "# \tmodel.add(Dropout(0.2))\n",
    "# \tmodel.add(Conv2D(128, (3, 3), activation='relu', kernel_initializer='he_uniform', padding='same'))\n",
    "# \tmodel.add(Conv2D(128, (3, 3), activation='relu', kernel_initializer='he_uniform', padding='same'))\n",
    "# \tmodel.add(MaxPooling2D((2, 2)))\n",
    "# \tmodel.add(Dropout(0.2))\n",
    "# \tmodel.add(Flatten())\n",
    "# \tmodel.add(Dense(128, activation='relu', kernel_initializer='he_uniform'))\n",
    "# \tmodel.add(Dropout(0.2))\n",
    "# \tmodel.add(Dense(10, activation='softmax'))\n",
    "# \t# compile model\n",
    "# \topt = SGD(lr=0.001, momentum=0.9)\n",
    "# \tmodel.compile(optimizer=opt, loss='categorical_crossentropy', metrics=['accuracy'])\n",
    "# \treturn model"
   ]
  },
  {
   "cell_type": "code",
   "execution_count": 8,
   "id": "e3997e1c",
   "metadata": {
    "execution": {
     "iopub.execute_input": "2021-11-26T23:37:26.511489Z",
     "iopub.status.busy": "2021-11-26T23:37:26.510469Z",
     "iopub.status.idle": "2021-11-26T23:37:26.514975Z",
     "shell.execute_reply": "2021-11-26T23:37:26.515483Z",
     "shell.execute_reply.started": "2021-11-26T23:25:18.394849Z"
    },
    "papermill": {
     "duration": 0.031422,
     "end_time": "2021-11-26T23:37:26.515668",
     "exception": false,
     "start_time": "2021-11-26T23:37:26.484246",
     "status": "completed"
    },
    "tags": []
   },
   "outputs": [],
   "source": [
    "\n",
    "# model = Sequential()\n",
    "# model.add(Conv2D(16,(5,5),padding='valid',input_shape = train_images.shape))\n",
    "# model.add(Activation('relu'))\n",
    "# model.add(MaxPooling2D(pool_size=(2,2),strides=2,padding = 'valid'))\n",
    "# model.add(Dropout(0.4))\n",
    "# model.add(Conv2D(32,(5,5),padding='valid'))\n",
    "# model.add(Activation('relu'))\n",
    "# model.add(MaxPooling2D(pool_size=(2,2),strides=2,padding = 'valid'))\n",
    "# model.add(Dropout(0.6))\n",
    "# model.add(Conv2D(64,(5,5),padding='valid'))\n",
    "# model.add(Activation('relu'))\n",
    "# model.add(Dropout(0.8))\n",
    "# model.add(Flatten())\n",
    "# model.add(Dense(2))\n",
    "# model.add(Activation('softmax'))\n",
    "\n",
    "# batch_size = 100\n",
    "# epochs= 100\n",
    "\n",
    "# optimizer = keras.optimizers.rmsprop(lr = 0.0001, decay = 1e-6)\n",
    "\n",
    "# model.compile(loss = 'binary_crossentropy',optimizer = optimizer, metrics = ['accuracy',keras_metrics.precision(), keras_metrics.recall()])\n",
    "\n",
    "# history = model.fit(train_images,train_labels,steps_per_epoch = int(len(train_images)/batch_size),epochs=epochs)\n",
    "# history"
   ]
  },
  {
   "cell_type": "code",
   "execution_count": 9,
   "id": "7b69b7ed",
   "metadata": {
    "execution": {
     "iopub.execute_input": "2021-11-26T23:37:26.567090Z",
     "iopub.status.busy": "2021-11-26T23:37:26.566081Z",
     "iopub.status.idle": "2021-11-26T23:37:26.569984Z",
     "shell.execute_reply": "2021-11-26T23:37:26.570430Z",
     "shell.execute_reply.started": "2021-11-26T23:25:18.411913Z"
    },
    "papermill": {
     "duration": 0.03145,
     "end_time": "2021-11-26T23:37:26.570641",
     "exception": false,
     "start_time": "2021-11-26T23:37:26.539191",
     "status": "completed"
    },
    "tags": []
   },
   "outputs": [],
   "source": [
    "# model = Sequential()\n",
    "# model.add(Conv2D(16,(5,5),padding='valid',input_shape =,data_format='channels_first'))\n",
    "# model.add(Activation('relu'))\n",
    "# model.add(MaxPooling2D(pool_size=(2,2),strides=2,padding = 'valid'))\n",
    "# model.add(Dropout(0.4))\n",
    "# model.add(Conv2D(32,(5,5),padding='valid'))\n",
    "# model.add(Activation('relu'))\n",
    "# model.add(MaxPooling2D(pool_size=(2,2),strides=2,padding = 'valid'))\n",
    "# model.add(Dropout(0.6))\n",
    "# model.add(Conv2D(64,(5,5),padding='valid'))\n",
    "# model.add(Activation('relu'))\n",
    "# model.add(Dropout(0.8))\n",
    "# model.add(Flatten())\n",
    "# model.add(Dense(2))\n",
    "# model.add(Activation('softmax'))\n",
    "\n",
    "# batch_size = 100\n",
    "# epochs= 100\n",
    "\n",
    "# optimizer = keras.optimizers.rmsprop(lr = 0.0001, decay = 1e-6)\n",
    "\n",
    "# model.compile(loss = 'binary_crossentropy',optimizer = optimizer, metrics = ['accuracy',keras_metrics.precision(), keras_metrics.recall()])\n",
    "\n",
    "# history = model.fit(train_images,train_labels,steps_per_epoch = int(len(train_images)/batch_size),epochs=epochs)\n",
    "# history"
   ]
  },
  {
   "cell_type": "code",
   "execution_count": 10,
   "id": "68378469",
   "metadata": {
    "execution": {
     "iopub.execute_input": "2021-11-26T23:37:26.626984Z",
     "iopub.status.busy": "2021-11-26T23:37:26.626233Z",
     "iopub.status.idle": "2021-11-26T23:37:26.799042Z",
     "shell.execute_reply": "2021-11-26T23:37:26.798479Z",
     "shell.execute_reply.started": "2021-11-26T23:25:18.429780Z"
    },
    "papermill": {
     "duration": 0.204943,
     "end_time": "2021-11-26T23:37:26.799182",
     "exception": false,
     "start_time": "2021-11-26T23:37:26.594239",
     "status": "completed"
    },
    "tags": []
   },
   "outputs": [
    {
     "name": "stderr",
     "output_type": "stream",
     "text": [
      "\n",
      "User settings:\n",
      "\n",
      "   KMP_AFFINITY=granularity=fine,verbose,compact,1,0\n",
      "   KMP_BLOCKTIME=0\n",
      "   KMP_SETTINGS=1\n",
      "   KMP_WARNINGS=0\n",
      "\n",
      "Effective settings:\n",
      "\n",
      "   KMP_ABORT_DELAY=0\n",
      "   KMP_ADAPTIVE_LOCK_PROPS='1,1024'\n",
      "   KMP_ALIGN_ALLOC=64\n",
      "   KMP_ALL_THREADPRIVATE=128\n",
      "   KMP_ATOMIC_MODE=2\n",
      "   KMP_BLOCKTIME=0\n",
      "   KMP_CPUINFO_FILE: value is not defined\n",
      "   KMP_DETERMINISTIC_REDUCTION=false\n",
      "   KMP_DEVICE_THREAD_LIMIT=2147483647\n",
      "   KMP_DISP_NUM_BUFFERS=7\n",
      "   KMP_DUPLICATE_LIB_OK=false\n",
      "   KMP_ENABLE_TASK_THROTTLING=true\n",
      "   KMP_FORCE_REDUCTION: value is not defined\n",
      "   KMP_FOREIGN_THREADS_THREADPRIVATE=true\n",
      "   KMP_FORKJOIN_BARRIER='2,2'\n",
      "   KMP_FORKJOIN_BARRIER_PATTERN='hyper,hyper'\n",
      "   KMP_GTID_MODE=3\n",
      "   KMP_HANDLE_SIGNALS=false\n",
      "   KMP_HOT_TEAMS_MAX_LEVEL=1\n",
      "   KMP_HOT_TEAMS_MODE=0\n",
      "   KMP_INIT_AT_FORK=true\n",
      "   KMP_LIBRARY=throughput\n",
      "   KMP_LOCK_KIND=queuing\n",
      "   KMP_MALLOC_POOL_INCR=1M\n",
      "   KMP_NUM_LOCKS_IN_BLOCK=1\n",
      "   KMP_PLAIN_BARRIER='2,2'\n",
      "   KMP_PLAIN_BARRIER_PATTERN='hyper,hyper'\n",
      "   KMP_REDUCTION_BARRIER='1,1'\n",
      "   KMP_REDUCTION_BARRIER_PATTERN='hyper,hyper'\n",
      "   KMP_SCHEDULE='static,balanced;guided,iterative'\n",
      "   KMP_SETTINGS=true\n",
      "   KMP_SPIN_BACKOFF_PARAMS='4096,100'\n",
      "   KMP_STACKOFFSET=64\n",
      "   KMP_STACKPAD=0\n",
      "   KMP_STACKSIZE=8M\n",
      "   KMP_STORAGE_MAP=false\n",
      "   KMP_TASKING=2\n",
      "   KMP_TASKLOOP_MIN_TASKS=0\n",
      "   KMP_TASK_STEALING_CONSTRAINT=1\n",
      "   KMP_TEAMS_THREAD_LIMIT=4\n",
      "   KMP_TOPOLOGY_METHOD=all\n",
      "   KMP_USE_YIELD=1\n",
      "   KMP_VERSION=false\n",
      "   KMP_WARNINGS=false\n",
      "   OMP_AFFINITY_FORMAT='OMP: pid %P tid %i thread %n bound to OS proc set {%A}'\n",
      "   OMP_ALLOCATOR=omp_default_mem_alloc\n",
      "   OMP_CANCELLATION=false\n",
      "   OMP_DEFAULT_DEVICE=0\n",
      "   OMP_DISPLAY_AFFINITY=false\n",
      "   OMP_DISPLAY_ENV=false\n",
      "   OMP_DYNAMIC=false\n",
      "   OMP_MAX_ACTIVE_LEVELS=1\n",
      "   OMP_MAX_TASK_PRIORITY=0\n",
      "   OMP_NESTED: deprecated; max-active-levels-var=1\n",
      "   OMP_NUM_THREADS: value is not defined\n",
      "   OMP_PLACES: value is not defined\n",
      "   OMP_PROC_BIND='intel'\n",
      "   OMP_SCHEDULE='static'\n",
      "   OMP_STACKSIZE=8M\n",
      "   OMP_TARGET_OFFLOAD=DEFAULT\n",
      "   OMP_THREAD_LIMIT=2147483647\n",
      "   OMP_WAIT_POLICY=PASSIVE\n",
      "   KMP_AFFINITY='verbose,warnings,respect,granularity=fine,compact,1,0'\n",
      "\n",
      "2021-11-26 23:37:26.676050: I tensorflow/core/common_runtime/process_util.cc:146] Creating new thread pool with default inter op setting: 2. Tune using inter_op_parallelism_threads for best performance.\n"
     ]
    }
   ],
   "source": [
    "# model = Sequential([\n",
    "#     Conv2D(8, kernel_size=(3, 3), activation='relu',padding='same',input_shape=(28,28,1)),\n",
    "#     MaxPooling2D(pool_size=(2, 2),strides=2),\n",
    "#     Conv2D(16, kernel_size=(5, 5), activation='relu'),\n",
    "#     MaxPooling2D(pool_size=(2, 2),strides=2),\n",
    "#     Flatten(),\n",
    "#     Dense(120, activation='relu'),\n",
    "#     Dense(84, activation='relu'),\n",
    "#     Dense(10, activation='softmax')\n",
    "# ])\n",
    "\n",
    "\n",
    "# model = Sequential([\n",
    "#     Conv2D(32, kernel_size=(3, 3), activation='relu',input_shape=(28,28,1)),\n",
    "#     MaxPooling2D(pool_size=(2, 2),strides=2),\n",
    "#     Conv2D(64, kernel_size=(3, 3), activation='relu'),\n",
    "#     MaxPooling2D(pool_size=(2, 2),strides=2),\n",
    "#     Conv2D(128, kernel_size=(3, 3), activation='relu'),\n",
    "#     MaxPooling2D(pool_size=(2, 2),strides=2),\n",
    "#     Flatten(),\n",
    "#     Dense(64, activation='relu'),\n",
    "#     Dense(10, activation='softmax')\n",
    "# ])\n",
    "\n",
    "model = Sequential([\n",
    "    Conv2D(16, kernel_size=(3, 3), activation='relu',padding='same',input_shape=(28,28,1)),\n",
    "    Conv2D(16, kernel_size=(3, 3), activation='relu',padding='same'),\n",
    "    MaxPooling2D(pool_size=(2, 2),strides=2),\n",
    "    Conv2D(32, kernel_size=(3, 3), activation='relu'),\n",
    "    Conv2D(32, kernel_size=(3, 3), activation='relu'),\n",
    "    MaxPooling2D(pool_size=(2, 2),strides=2),\n",
    "    Flatten(),\n",
    "    Dense(512, activation='relu'),\n",
    "    Dense(10, activation='softmax')\n",
    "])"
   ]
  },
  {
   "cell_type": "code",
   "execution_count": 11,
   "id": "903c93d4",
   "metadata": {
    "execution": {
     "iopub.execute_input": "2021-11-26T23:37:26.850686Z",
     "iopub.status.busy": "2021-11-26T23:37:26.849999Z",
     "iopub.status.idle": "2021-11-26T23:41:11.941501Z",
     "shell.execute_reply": "2021-11-26T23:41:11.940663Z",
     "shell.execute_reply.started": "2021-11-26T23:25:18.620043Z"
    },
    "papermill": {
     "duration": 225.118371,
     "end_time": "2021-11-26T23:41:11.941673",
     "exception": false,
     "start_time": "2021-11-26T23:37:26.823302",
     "status": "completed"
    },
    "tags": []
   },
   "outputs": [
    {
     "name": "stderr",
     "output_type": "stream",
     "text": [
      "/opt/conda/lib/python3.7/site-packages/keras/optimizer_v2/optimizer_v2.py:356: UserWarning: The `lr` argument is deprecated, use `learning_rate` instead.\n",
      "  \"The `lr` argument is deprecated, use `learning_rate` instead.\")\n",
      "2021-11-26 23:37:27.080782: I tensorflow/compiler/mlir/mlir_graph_optimization_pass.cc:185] None of the MLIR Optimization Passes are enabled (registered 2)\n"
     ]
    },
    {
     "name": "stdout",
     "output_type": "stream",
     "text": [
      "Epoch 1/15\n",
      "196/196 - 16s - loss: 0.8793 - accuracy: 0.6749\n",
      "Epoch 2/15\n",
      "196/196 - 14s - loss: 0.5490 - accuracy: 0.7968\n",
      "Epoch 3/15\n",
      "196/196 - 14s - loss: 0.4741 - accuracy: 0.8264\n",
      "Epoch 4/15\n",
      "196/196 - 15s - loss: 0.4329 - accuracy: 0.8411\n",
      "Epoch 5/15\n",
      "196/196 - 14s - loss: 0.4001 - accuracy: 0.8514\n",
      "Epoch 6/15\n",
      "196/196 - 15s - loss: 0.3747 - accuracy: 0.8620\n",
      "Epoch 7/15\n",
      "196/196 - 14s - loss: 0.3509 - accuracy: 0.8720\n",
      "Epoch 8/15\n",
      "196/196 - 15s - loss: 0.3327 - accuracy: 0.8768\n",
      "Epoch 9/15\n",
      "196/196 - 14s - loss: 0.3171 - accuracy: 0.8824\n",
      "Epoch 10/15\n",
      "196/196 - 15s - loss: 0.3061 - accuracy: 0.8863\n",
      "Epoch 11/15\n",
      "196/196 - 14s - loss: 0.2882 - accuracy: 0.8937\n",
      "Epoch 12/15\n",
      "196/196 - 14s - loss: 0.2750 - accuracy: 0.8970\n",
      "Epoch 13/15\n",
      "196/196 - 15s - loss: 0.2565 - accuracy: 0.9054\n",
      "Epoch 14/15\n",
      "196/196 - 14s - loss: 0.2411 - accuracy: 0.9093\n",
      "Epoch 15/15\n",
      "196/196 - 15s - loss: 0.2297 - accuracy: 0.9144\n",
      "Val accuracy: 0.9139400124549866\n"
     ]
    }
   ],
   "source": [
    "adam = Adam(lr=0.001)\n",
    "model.compile(loss='categorical_crossentropy', metrics=['accuracy'],optimizer=adam)\n",
    "model.fit(train_images, train_labels,batch_size=256,epochs=15,verbose=2)\n",
    "score, acc = model.evaluate(train_images, train_labels, verbose=0)\n",
    "print('Val accuracy:', acc)"
   ]
  },
  {
   "cell_type": "code",
   "execution_count": 12,
   "id": "d644d0f6",
   "metadata": {
    "execution": {
     "iopub.execute_input": "2021-11-26T23:41:12.083750Z",
     "iopub.status.busy": "2021-11-26T23:41:12.011867Z",
     "iopub.status.idle": "2021-11-26T23:41:14.920849Z",
     "shell.execute_reply": "2021-11-26T23:41:14.920242Z",
     "shell.execute_reply.started": "2021-11-26T23:29:31.445884Z"
    },
    "papermill": {
     "duration": 2.94527,
     "end_time": "2021-11-26T23:41:14.921007",
     "exception": false,
     "start_time": "2021-11-26T23:41:11.975737",
     "status": "completed"
    },
    "tags": []
   },
   "outputs": [],
   "source": [
    "test_results = model.predict(test_images)"
   ]
  },
  {
   "cell_type": "code",
   "execution_count": 13,
   "id": "45cb44d6",
   "metadata": {
    "execution": {
     "iopub.execute_input": "2021-11-26T23:41:14.992110Z",
     "iopub.status.busy": "2021-11-26T23:41:14.991476Z",
     "iopub.status.idle": "2021-11-26T23:41:15.211257Z",
     "shell.execute_reply": "2021-11-26T23:41:15.211849Z",
     "shell.execute_reply.started": "2021-11-26T23:36:23.506341Z"
    },
    "papermill": {
     "duration": 0.257056,
     "end_time": "2021-11-26T23:41:15.212028",
     "exception": false,
     "start_time": "2021-11-26T23:41:14.954972",
     "status": "completed"
    },
    "tags": []
   },
   "outputs": [
    {
     "name": "stdout",
     "output_type": "stream",
     "text": [
      "(20000,)\n",
      "9\n"
     ]
    }
   ],
   "source": [
    "test_results = np.round(test_results).astype(int)\n",
    "test_labels = np.argmax(test_results,axis=1)\n",
    "print(test_labels.shape)\n",
    "print(test_labels[0])\n",
    "new_test_label = []\n",
    "just_labels = []\n",
    "for i in range(len(test_labels)):\n",
    "    new_test_label.append([i, test_labels[i]])\n",
    "    just_labels.append(i)\n"
   ]
  },
  {
   "cell_type": "code",
   "execution_count": 14,
   "id": "a56cc37c",
   "metadata": {
    "execution": {
     "iopub.execute_input": "2021-11-26T23:41:15.284840Z",
     "iopub.status.busy": "2021-11-26T23:41:15.284099Z",
     "iopub.status.idle": "2021-11-26T23:41:15.340901Z",
     "shell.execute_reply": "2021-11-26T23:41:15.340200Z",
     "shell.execute_reply.started": "2021-11-26T23:36:25.673751Z"
    },
    "papermill": {
     "duration": 0.093833,
     "end_time": "2021-11-26T23:41:15.341050",
     "exception": false,
     "start_time": "2021-11-26T23:41:15.247217",
     "status": "completed"
    },
    "tags": []
   },
   "outputs": [],
   "source": [
    "my_submission = pd.DataFrame({'Id': just_labels, \"label\": test_labels})\n",
    "# you could use any filename. We choose submission here\n",
    "my_submission.to_csv('submission.csv', index=False)"
   ]
  }
 ],
 "metadata": {
  "kernelspec": {
   "display_name": "Python 3",
   "language": "python",
   "name": "python3"
  },
  "language_info": {
   "codemirror_mode": {
    "name": "ipython",
    "version": 3
   },
   "file_extension": ".py",
   "mimetype": "text/x-python",
   "name": "python",
   "nbconvert_exporter": "python",
   "pygments_lexer": "ipython3",
   "version": "3.7.10"
  },
  "papermill": {
   "default_parameters": {},
   "duration": 252.724532,
   "end_time": "2021-11-26T23:41:18.733749",
   "environment_variables": {},
   "exception": null,
   "input_path": "__notebook__.ipynb",
   "output_path": "__notebook__.ipynb",
   "parameters": {},
   "start_time": "2021-11-26T23:37:06.009217",
   "version": "2.3.3"
  }
 },
 "nbformat": 4,
 "nbformat_minor": 5
}
